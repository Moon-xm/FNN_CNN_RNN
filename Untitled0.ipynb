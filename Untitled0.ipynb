{
 "cells": [
  {
   "cell_type": "code",
   "execution_count": 1,
   "metadata": {
    "colab": {
     "base_uri": "https://localhost:8080/"
    },
    "executionInfo": {
     "elapsed": 33318,
     "status": "ok",
     "timestamp": 1611753352396,
     "user": {
      "displayName": "ming xiao",
      "photoUrl": "https://lh3.googleusercontent.com/a-/AOh14GjaxY6rOBabF8qqgKhTvgPR9LUhdLGKLiWCOzqj=s64",
      "userId": "05236007827050334099"
     },
     "user_tz": -480
    },
    "id": "IzA7om9Ells0",
    "outputId": "b69ab4f9-075e-4195-e9cf-c0ab0ced3a6d"
   },
   "outputs": [
    {
     "name": "stdout",
     "output_type": "stream",
     "text": [
      "Mounted at /content/drive\n"
     ]
    }
   ],
   "source": [
    "from google.colab import drive\n",
    "drive.mount('/content/drive')"
   ]
  },
  {
   "cell_type": "code",
   "execution_count": 2,
   "metadata": {
    "colab": {
     "base_uri": "https://localhost:8080/"
    },
    "executionInfo": {
     "elapsed": 4905,
     "status": "ok",
     "timestamp": 1611753388354,
     "user": {
      "displayName": "ming xiao",
      "photoUrl": "https://lh3.googleusercontent.com/a-/AOh14GjaxY6rOBabF8qqgKhTvgPR9LUhdLGKLiWCOzqj=s64",
      "userId": "05236007827050334099"
     },
     "user_tz": -480
    },
    "id": "soI6_dkv_GQR",
    "outputId": "65d6eb3a-4f70-4425-e565-c7a64598ef37"
   },
   "outputs": [
    {
     "data": {
      "text/plain": [
       "True"
      ]
     },
     "execution_count": 2,
     "metadata": {
      "tags": []
     },
     "output_type": "execute_result"
    }
   ],
   "source": [
    "import torch\n",
    "torch.cuda.is_available()"
   ]
  },
  {
   "cell_type": "code",
   "execution_count": 30,
   "metadata": {
    "colab": {
     "base_uri": "https://localhost:8080/"
    },
    "executionInfo": {
     "elapsed": 2306,
     "status": "ok",
     "timestamp": 1611757025041,
     "user": {
      "displayName": "ming xiao",
      "photoUrl": "https://lh3.googleusercontent.com/a-/AOh14GjaxY6rOBabF8qqgKhTvgPR9LUhdLGKLiWCOzqj=s64",
      "userId": "05236007827050334099"
     },
     "user_tz": -480
    },
    "id": "Tp5LvPJQlwL2",
    "outputId": "7c7f2e1b-2038-4b12-a33f-423c7359a935",
    "scrolled": true
   },
   "outputs": [
    {
     "name": "stdout",
     "output_type": "stream",
     "text": [
      "/content/drive/Shareddrives/xm/CNN\n"
     ]
    }
   ],
   "source": [
    "cd /content/drive/Shareddrives/xm/CNN"
   ]
  },
  {
   "cell_type": "code",
   "execution_count": null,
   "metadata": {
    "colab": {
     "base_uri": "https://localhost:8080/"
    },
    "executionInfo": {
     "elapsed": 130464,
     "status": "ok",
     "timestamp": 1611630163547,
     "user": {
      "displayName": "ming xiao",
      "photoUrl": "https://lh3.googleusercontent.com/a-/AOh14GjaxY6rOBabF8qqgKhTvgPR9LUhdLGKLiWCOzqj=s64",
      "userId": "05236007827050334099"
     },
     "user_tz": -480
    },
    "id": "DK4PxCp6mcVE",
    "outputId": "c5764f10-d5d0-49fa-8647-b75bd9adbf7b"
   },
   "outputs": [
    {
     "name": "stdout",
     "output_type": "stream",
     "text": [
      "Running on:  cuda:0\n",
      "/usr/local/lib/python3.6/dist-packages/torch/nn/_reduction.py:44: UserWarning: size_average and reduce args will be deprecated, please use reduction='mean' instead.\n",
      "  warnings.warn(warning.format(ret))\n",
      "\tepoch:1, batch_id:100, Loss:2.2641654014587402\n",
      "\tepoch:1, batch_id:200, Loss:2.197597026824951\n",
      "\tepoch:1, batch_id:300, Loss:1.7574259042739868\n",
      "\tepoch:1, batch_id:400, Loss:0.8050143718719482\n",
      "\tepoch:1, batch_id:500, Loss:0.4966316223144531\n",
      "\tepoch:1, batch_id:600, Loss:0.45430484414100647\n",
      "\tepoch:1, batch_id:700, Loss:0.5514269471168518\n",
      "\tepoch:1, batch_id:800, Loss:0.2910969853401184\n",
      "\tepoch:1, batch_id:900, Loss:0.40244826674461365\n",
      "EPOCH:1, Loss:0.3651062548160553\n",
      "Accuracy on test set:90.22%:\n",
      "\tepoch:2, batch_id:100, Loss:0.5734142661094666\n",
      "\tepoch:2, batch_id:200, Loss:0.33537328243255615\n",
      "\tepoch:2, batch_id:300, Loss:0.24023425579071045\n",
      "\tepoch:2, batch_id:400, Loss:0.48129379749298096\n",
      "\tepoch:2, batch_id:500, Loss:0.39048537611961365\n",
      "\tepoch:2, batch_id:600, Loss:0.19764447212219238\n",
      "\tepoch:2, batch_id:700, Loss:0.2024528533220291\n",
      "\tepoch:2, batch_id:800, Loss:0.1529490053653717\n",
      "\tepoch:2, batch_id:900, Loss:0.18206578493118286\n",
      "EPOCH:2, Loss:0.10463171452283859\n",
      "Accuracy on test set:94.27%:\n",
      "\tepoch:3, batch_id:100, Loss:0.12661845982074738\n",
      "\tepoch:3, batch_id:200, Loss:0.07509913295507431\n",
      "\tepoch:3, batch_id:300, Loss:0.20799791812896729\n",
      "\tepoch:3, batch_id:400, Loss:0.2818061411380768\n",
      "\tepoch:3, batch_id:500, Loss:0.15885454416275024\n",
      "\tepoch:3, batch_id:600, Loss:0.2551392912864685\n",
      "\tepoch:3, batch_id:700, Loss:0.13081686198711395\n",
      "\tepoch:3, batch_id:800, Loss:0.1877618432044983\n",
      "\tepoch:3, batch_id:900, Loss:0.08032556623220444\n",
      "EPOCH:3, Loss:0.14925087988376617\n",
      "Accuracy on test set:95.71%:\n",
      "\tepoch:4, batch_id:100, Loss:0.25443291664123535\n",
      "\tepoch:4, batch_id:200, Loss:0.2014693319797516\n",
      "\tepoch:4, batch_id:300, Loss:0.2837672829627991\n",
      "\tepoch:4, batch_id:400, Loss:0.06567594408988953\n",
      "\tepoch:4, batch_id:500, Loss:0.09084685891866684\n",
      "\tepoch:4, batch_id:600, Loss:0.06457853317260742\n",
      "\tepoch:4, batch_id:700, Loss:0.15629547834396362\n",
      "\tepoch:4, batch_id:800, Loss:0.034821175038814545\n",
      "\tepoch:4, batch_id:900, Loss:0.15937644243240356\n",
      "EPOCH:4, Loss:0.013479615561664104\n",
      "Accuracy on test set:96.52%:\n",
      "\tepoch:5, batch_id:100, Loss:0.06788613647222519\n",
      "\tepoch:5, batch_id:200, Loss:0.18857598304748535\n",
      "\tepoch:5, batch_id:300, Loss:0.0348738357424736\n",
      "\tepoch:5, batch_id:400, Loss:0.09476517885923386\n",
      "\tepoch:5, batch_id:500, Loss:0.14938321709632874\n",
      "\tepoch:5, batch_id:600, Loss:0.03447717800736427\n",
      "\tepoch:5, batch_id:700, Loss:0.13690835237503052\n",
      "\tepoch:5, batch_id:800, Loss:0.046036891639232635\n",
      "\tepoch:5, batch_id:900, Loss:0.042384471744298935\n",
      "EPOCH:5, Loss:0.046443842351436615\n",
      "Accuracy on test set:97.07%:\n",
      "\tepoch:6, batch_id:100, Loss:0.05845993012189865\n",
      "\tepoch:6, batch_id:200, Loss:0.058667827397584915\n",
      "\tepoch:6, batch_id:300, Loss:0.09139948338270187\n",
      "\tepoch:6, batch_id:400, Loss:0.032396350055933\n",
      "\tepoch:6, batch_id:500, Loss:0.051824841648340225\n",
      "\tepoch:6, batch_id:600, Loss:0.031129583716392517\n",
      "\tepoch:6, batch_id:700, Loss:0.06167192384600639\n",
      "\tepoch:6, batch_id:800, Loss:0.019560247659683228\n",
      "\tepoch:6, batch_id:900, Loss:0.053348615765571594\n",
      "EPOCH:6, Loss:0.07938399910926819\n",
      "Accuracy on test set:97.4%:\n",
      "\tepoch:7, batch_id:100, Loss:0.14487390220165253\n",
      "\tepoch:7, batch_id:200, Loss:0.061382561922073364\n",
      "\tepoch:7, batch_id:300, Loss:0.022879866883158684\n",
      "\tepoch:7, batch_id:400, Loss:0.08097095042467117\n",
      "\tepoch:7, batch_id:500, Loss:0.010365086607635021\n",
      "\tepoch:7, batch_id:600, Loss:0.03814340755343437\n",
      "\tepoch:7, batch_id:700, Loss:0.10902392864227295\n",
      "\tepoch:7, batch_id:800, Loss:0.04087173938751221\n",
      "\tepoch:7, batch_id:900, Loss:0.027151532471179962\n",
      "EPOCH:7, Loss:0.21986792981624603\n",
      "Accuracy on test set:97.45%:\n",
      "\tepoch:8, batch_id:100, Loss:0.026087604463100433\n",
      "\tepoch:8, batch_id:200, Loss:0.012365471571683884\n",
      "\tepoch:8, batch_id:300, Loss:0.03714939206838608\n",
      "\tepoch:8, batch_id:400, Loss:0.0959910973906517\n",
      "\tepoch:8, batch_id:500, Loss:0.11380837857723236\n",
      "\tepoch:8, batch_id:600, Loss:0.024477865546941757\n",
      "\tepoch:8, batch_id:700, Loss:0.057817041873931885\n",
      "\tepoch:8, batch_id:800, Loss:0.008777235634624958\n",
      "\tepoch:8, batch_id:900, Loss:0.0309562087059021\n",
      "EPOCH:8, Loss:0.012743402272462845\n",
      "Accuracy on test set:97.54%:\n",
      "\tepoch:9, batch_id:100, Loss:0.01880742609500885\n",
      "\tepoch:9, batch_id:200, Loss:0.06814936548471451\n",
      "\tepoch:9, batch_id:300, Loss:0.062262970954179764\n",
      "\tepoch:9, batch_id:400, Loss:0.015560386702418327\n",
      "\tepoch:9, batch_id:500, Loss:0.0462413914501667\n",
      "\tepoch:9, batch_id:600, Loss:0.025606226176023483\n",
      "\tepoch:9, batch_id:700, Loss:0.029505876824259758\n",
      "\tepoch:9, batch_id:800, Loss:0.019862491637468338\n",
      "\tepoch:9, batch_id:900, Loss:0.09490539133548737\n",
      "EPOCH:9, Loss:0.005002939607948065\n",
      "Accuracy on test set:97.59%:\n",
      "\tepoch:10, batch_id:100, Loss:0.013535503298044205\n",
      "\tepoch:10, batch_id:200, Loss:0.00634922506287694\n",
      "\tepoch:10, batch_id:300, Loss:0.09390848129987717\n",
      "\tepoch:10, batch_id:400, Loss:0.06543182581663132\n",
      "\tepoch:10, batch_id:500, Loss:0.010761313140392303\n",
      "\tepoch:10, batch_id:600, Loss:0.0198905598372221\n",
      "\tepoch:10, batch_id:700, Loss:0.09134484827518463\n",
      "\tepoch:10, batch_id:800, Loss:0.00480410922318697\n",
      "\tepoch:10, batch_id:900, Loss:0.021173778921365738\n",
      "EPOCH:10, Loss:0.09790463745594025\n",
      "Accuracy on test set:97.51%:\n",
      "<Figure size 640x480 with 1 Axes>\n"
     ]
    }
   ],
   "source": [
    "# !python3 FNN.py"
   ]
  },
  {
   "cell_type": "code",
   "execution_count": null,
   "metadata": {
    "colab": {
     "base_uri": "https://localhost:8080/"
    },
    "executionInfo": {
     "elapsed": 143654,
     "status": "ok",
     "timestamp": 1611634311562,
     "user": {
      "displayName": "ming xiao",
      "photoUrl": "https://lh3.googleusercontent.com/a-/AOh14GjaxY6rOBabF8qqgKhTvgPR9LUhdLGKLiWCOzqj=s64",
      "userId": "05236007827050334099"
     },
     "user_tz": -480
    },
    "id": "A47qPybanpgQ",
    "outputId": "85c5a1cd-ea58-458e-88c5-b6be805ac40f"
   },
   "outputs": [
    {
     "name": "stdout",
     "output_type": "stream",
     "text": [
      "Running on:  cuda:0\n",
      "/usr/local/lib/python3.6/dist-packages/torch/nn/_reduction.py:44: UserWarning: size_average and reduce args will be deprecated, please use reduction='mean' instead.\n",
      "  warnings.warn(warning.format(ret))\n",
      "\tepoch:1, batch_id:100, Loss:2.308847188949585\n",
      "\tepoch:1, batch_id:200, Loss:2.301292896270752\n",
      "\tepoch:1, batch_id:300, Loss:2.303074598312378\n",
      "\tepoch:1, batch_id:400, Loss:2.280853748321533\n",
      "\tepoch:1, batch_id:500, Loss:2.2671728134155273\n",
      "\tepoch:1, batch_id:600, Loss:2.210277557373047\n",
      "\tepoch:1, batch_id:700, Loss:1.8048118352890015\n",
      "\tepoch:1, batch_id:800, Loss:1.0596528053283691\n",
      "\tepoch:1, batch_id:900, Loss:0.8179830312728882\n",
      "EPOCH:1, Loss:0.3831048905849457\n",
      "Accuracy on test set:81.84%:\n",
      "\tepoch:2, batch_id:100, Loss:0.7367063760757446\n",
      "\tepoch:2, batch_id:200, Loss:0.35848551988601685\n",
      "\tepoch:2, batch_id:300, Loss:0.26912105083465576\n",
      "\tepoch:2, batch_id:400, Loss:0.2918906509876251\n",
      "\tepoch:2, batch_id:500, Loss:0.4465719163417816\n",
      "\tepoch:2, batch_id:600, Loss:0.36997920274734497\n",
      "\tepoch:2, batch_id:700, Loss:0.31886526942253113\n",
      "\tepoch:2, batch_id:800, Loss:0.10260152071714401\n",
      "\tepoch:2, batch_id:900, Loss:0.15248918533325195\n",
      "EPOCH:2, Loss:0.29860639572143555\n",
      "Accuracy on test set:92.62%:\n",
      "\tepoch:3, batch_id:100, Loss:0.17081370949745178\n",
      "\tepoch:3, batch_id:200, Loss:0.31420180201530457\n",
      "\tepoch:3, batch_id:300, Loss:0.3800034523010254\n",
      "\tepoch:3, batch_id:400, Loss:0.05391373112797737\n",
      "\tepoch:3, batch_id:500, Loss:0.31184855103492737\n",
      "\tepoch:3, batch_id:600, Loss:0.3028984069824219\n",
      "\tepoch:3, batch_id:700, Loss:0.15820083022117615\n",
      "\tepoch:3, batch_id:800, Loss:0.2856210768222809\n",
      "\tepoch:3, batch_id:900, Loss:0.11457610130310059\n",
      "EPOCH:3, Loss:0.23792432248592377\n",
      "Accuracy on test set:92.86%:\n",
      "\tepoch:4, batch_id:100, Loss:0.1247369796037674\n",
      "\tepoch:4, batch_id:200, Loss:0.13097958266735077\n",
      "\tepoch:4, batch_id:300, Loss:0.2449374943971634\n",
      "\tepoch:4, batch_id:400, Loss:0.13584555685520172\n",
      "\tepoch:4, batch_id:500, Loss:0.17858926951885223\n",
      "\tepoch:4, batch_id:600, Loss:0.16475267708301544\n",
      "\tepoch:4, batch_id:700, Loss:0.060133278369903564\n",
      "\tepoch:4, batch_id:800, Loss:0.15746118128299713\n",
      "\tepoch:4, batch_id:900, Loss:0.06115105003118515\n",
      "EPOCH:4, Loss:0.21471434831619263\n",
      "Accuracy on test set:90.15%:\n",
      "\tepoch:5, batch_id:100, Loss:0.08320380002260208\n",
      "\tepoch:5, batch_id:200, Loss:0.08837772905826569\n",
      "\tepoch:5, batch_id:300, Loss:0.250699520111084\n",
      "\tepoch:5, batch_id:400, Loss:0.06835809350013733\n",
      "\tepoch:5, batch_id:500, Loss:0.058149442076683044\n",
      "\tepoch:5, batch_id:600, Loss:0.049722716212272644\n",
      "\tepoch:5, batch_id:700, Loss:0.13742010295391083\n",
      "\tepoch:5, batch_id:800, Loss:0.09163875877857208\n",
      "\tepoch:5, batch_id:900, Loss:0.1531400829553604\n",
      "EPOCH:5, Loss:0.0683014765381813\n",
      "Accuracy on test set:96.82%:\n",
      "\tepoch:6, batch_id:100, Loss:0.03403858840465546\n",
      "\tepoch:6, batch_id:200, Loss:0.17923912405967712\n",
      "\tepoch:6, batch_id:300, Loss:0.035838283598423004\n",
      "\tepoch:6, batch_id:400, Loss:0.15693065524101257\n",
      "\tepoch:6, batch_id:500, Loss:0.14283420145511627\n",
      "\tepoch:6, batch_id:600, Loss:0.03866695985198021\n",
      "\tepoch:6, batch_id:700, Loss:0.14427311718463898\n",
      "\tepoch:6, batch_id:800, Loss:0.12408757209777832\n",
      "\tepoch:6, batch_id:900, Loss:0.018697764724493027\n",
      "EPOCH:6, Loss:0.06932157278060913\n",
      "Accuracy on test set:96.64%:\n",
      "\tepoch:7, batch_id:100, Loss:0.030141465365886688\n",
      "\tepoch:7, batch_id:200, Loss:0.024268565699458122\n",
      "\tepoch:7, batch_id:300, Loss:0.1584550440311432\n",
      "\tepoch:7, batch_id:400, Loss:0.16244862973690033\n",
      "\tepoch:7, batch_id:500, Loss:0.02457253634929657\n",
      "\tepoch:7, batch_id:600, Loss:0.023399870842695236\n",
      "\tepoch:7, batch_id:700, Loss:0.06963657587766647\n",
      "\tepoch:7, batch_id:800, Loss:0.03852520510554314\n",
      "\tepoch:7, batch_id:900, Loss:0.07048964500427246\n",
      "EPOCH:7, Loss:0.02531157247722149\n",
      "Accuracy on test set:97.24%:\n",
      "\tepoch:8, batch_id:100, Loss:0.034048810601234436\n",
      "\tepoch:8, batch_id:200, Loss:0.05983470007777214\n",
      "\tepoch:8, batch_id:300, Loss:0.04404955729842186\n",
      "\tepoch:8, batch_id:400, Loss:0.0828242227435112\n",
      "\tepoch:8, batch_id:500, Loss:0.13536567986011505\n",
      "\tepoch:8, batch_id:600, Loss:0.1506207138299942\n",
      "\tepoch:8, batch_id:700, Loss:0.03646392747759819\n",
      "\tepoch:8, batch_id:800, Loss:0.19320295751094818\n",
      "\tepoch:8, batch_id:900, Loss:0.07918642461299896\n",
      "EPOCH:8, Loss:0.08066137135028839\n",
      "Accuracy on test set:97.51%:\n",
      "\tepoch:9, batch_id:100, Loss:0.10664677619934082\n",
      "\tepoch:9, batch_id:200, Loss:0.06223256140947342\n",
      "\tepoch:9, batch_id:300, Loss:0.009781453758478165\n",
      "\tepoch:9, batch_id:400, Loss:0.11251933127641678\n",
      "\tepoch:9, batch_id:500, Loss:0.15620747208595276\n",
      "\tepoch:9, batch_id:600, Loss:0.18132293224334717\n",
      "\tepoch:9, batch_id:700, Loss:0.054516587406396866\n",
      "\tepoch:9, batch_id:800, Loss:0.04380713403224945\n",
      "\tepoch:9, batch_id:900, Loss:0.08147255331277847\n",
      "EPOCH:9, Loss:0.06565223634243011\n",
      "Accuracy on test set:97.7%:\n",
      "\tepoch:10, batch_id:100, Loss:0.07218695431947708\n",
      "\tepoch:10, batch_id:200, Loss:0.05247991532087326\n",
      "\tepoch:10, batch_id:300, Loss:0.1311805248260498\n",
      "\tepoch:10, batch_id:400, Loss:0.07008901238441467\n",
      "\tepoch:10, batch_id:500, Loss:0.11396051198244095\n",
      "\tepoch:10, batch_id:600, Loss:0.027861736714839935\n",
      "\tepoch:10, batch_id:700, Loss:0.10153977572917938\n",
      "\tepoch:10, batch_id:800, Loss:0.014640461653470993\n",
      "\tepoch:10, batch_id:900, Loss:0.02777259610593319\n",
      "EPOCH:10, Loss:0.005672627128660679\n",
      "Accuracy on test set:97.01%:\n",
      "<Figure size 640x480 with 1 Axes>\n"
     ]
    }
   ],
   "source": [
    "# !python CNN.py"
   ]
  },
  {
   "cell_type": "code",
   "execution_count": null,
   "metadata": {
    "colab": {
     "base_uri": "https://localhost:8080/"
    },
    "executionInfo": {
     "elapsed": 290,
     "status": "ok",
     "timestamp": 1611673080325,
     "user": {
      "displayName": "ming xiao",
      "photoUrl": "https://lh3.googleusercontent.com/a-/AOh14GjaxY6rOBabF8qqgKhTvgPR9LUhdLGKLiWCOzqj=s64",
      "userId": "05236007827050334099"
     },
     "user_tz": -480
    },
    "id": "wSy3aFvI4Mby",
    "outputId": "6eb5cdee-f411-4b73-cd5d-3dae9a9c7d38"
   },
   "outputs": [
    {
     "name": "stdout",
     "output_type": "stream",
     "text": [
      "Running on:  cuda:0\n",
      "EPOCH: 1, Loss: 0.2641178369522095, accuracy: 92.9800%, using time: 0m16s\n",
      "EPOCH: 2, Loss: 0.041691675782203674, accuracy: 97.1300%, using time: 0m33s\n",
      "EPOCH: 3, Loss: 0.06541216373443604, accuracy: 97.9100%, using time: 0m50s\n",
      "EPOCH: 4, Loss: 0.17893879115581512, accuracy: 98.4800%, using time: 1m7s\n",
      "EPOCH: 5, Loss: 0.01045670174062252, accuracy: 98.4900%, using time: 1m24s\n",
      "EPOCH: 6, Loss: 0.07762745022773743, accuracy: 98.4500%, using time: 1m41s\n",
      "EPOCH: 7, Loss: 0.004187528509646654, accuracy: 98.8500%, using time: 1m57s\n",
      "EPOCH: 8, Loss: 0.08058276027441025, accuracy: 98.8300%, using time: 2m14s\n",
      "EPOCH: 9, Loss: 0.08650634437799454, accuracy: 98.9900%, using time: 2m30s\n",
      "EPOCH: 10, Loss: 0.02007116563618183, accuracy: 98.9600%, using time: 2m46s\n",
      "EPOCH: 11, Loss: 0.0012725817505270243, accuracy: 98.9700%, using time: 3m3s\n",
      "EPOCH: 12, Loss: 0.010228515602648258, accuracy: 98.7700%, using time: 3m19s\n",
      "EPOCH: 13, Loss: 0.052268534898757935, accuracy: 98.8600%, using time: 3m35s\n",
      "EPOCH: 14, Loss: 0.0017693912377581, accuracy: 99.0600%, using time: 3m52s\n",
      "EPOCH: 15, Loss: 0.004880121443420649, accuracy: 99.0000%, using time: 4m8s\n",
      "EPOCH: 16, Loss: 0.019778726622462273, accuracy: 99.1100%, using time: 4m24s\n",
      "EPOCH: 17, Loss: 0.0010335310362279415, accuracy: 99.0800%, using time: 4m41s\n",
      "EPOCH: 18, Loss: 0.02835884690284729, accuracy: 98.6600%, using time: 4m57s\n",
      "EPOCH: 19, Loss: 0.0023974019568413496, accuracy: 99.1000%, using time: 5m14s\n",
      "EPOCH: 20, Loss: 0.0004573960031848401, accuracy: 98.9900%, using time: 5m30s\n",
      "EPOCH: 21, Loss: 0.00188632239587605, accuracy: 99.1000%, using time: 5m46s\n",
      "EPOCH: 22, Loss: 5.511391282198019e-05, accuracy: 98.9900%, using time: 6m3s\n",
      "EPOCH: 23, Loss: 0.02336122654378414, accuracy: 98.8500%, using time: 6m19s\n",
      "EPOCH: 24, Loss: 0.0017156201647594571, accuracy: 99.0500%, using time: 6m35s\n",
      "EPOCH: 25, Loss: 0.012334752827882767, accuracy: 99.1300%, using time: 6m52s\n",
      "EPOCH: 26, Loss: 0.0002676480507943779, accuracy: 98.8200%, using time: 7m8s\n",
      "EPOCH: 27, Loss: 0.0004030772834084928, accuracy: 98.9700%, using time: 7m25s\n",
      "EPOCH: 28, Loss: 0.0005892536137253046, accuracy: 99.0500%, using time: 7m41s\n",
      "EPOCH: 29, Loss: 6.0454454796854407e-05, accuracy: 98.9600%, using time: 7m57s\n",
      "EPOCH: 30, Loss: 0.004221141338348389, accuracy: 98.9500%, using time: 8m14s\n",
      "EPOCH: 31, Loss: 0.001414250466041267, accuracy: 99.0500%, using time: 8m30s\n",
      "EPOCH: 32, Loss: 0.010865201242268085, accuracy: 99.1600%, using time: 8m47s\n",
      "EPOCH: 33, Loss: 1.28585597849451e-05, accuracy: 99.0600%, using time: 9m3s\n",
      "EPOCH: 34, Loss: 0.0007086456753313541, accuracy: 99.1800%, using time: 9m19s\n",
      "EPOCH: 35, Loss: 7.598008960485458e-05, accuracy: 99.1400%, using time: 9m36s\n",
      "EPOCH: 36, Loss: 0.011283842846751213, accuracy: 99.0100%, using time: 9m53s\n",
      "EPOCH: 37, Loss: 3.39000479243623e-07, accuracy: 99.0900%, using time: 10m9s\n",
      "EPOCH: 38, Loss: 2.6109866666956805e-05, accuracy: 99.0500%, using time: 10m25s\n",
      "EPOCH: 39, Loss: 5.572867848968599e-06, accuracy: 99.0400%, using time: 10m42s\n",
      "EPOCH: 40, Loss: 0.0012906675692647696, accuracy: 99.1000%, using time: 10m59s\n",
      "EPOCH: 41, Loss: 4.213102329231333e-06, accuracy: 99.1400%, using time: 11m15s\n",
      "EPOCH: 42, Loss: 0.00016361700545530766, accuracy: 99.0000%, using time: 11m31s\n",
      "EPOCH: 43, Loss: 0.0002003372210310772, accuracy: 99.1300%, using time: 11m48s\n",
      "EPOCH: 44, Loss: 0.0002223582414444536, accuracy: 99.1300%, using time: 12m4s\n",
      "EPOCH: 45, Loss: 4.28021530751721e-06, accuracy: 99.1800%, using time: 12m21s\n",
      "EPOCH: 46, Loss: 5.892987246625125e-06, accuracy: 99.1500%, using time: 12m38s\n",
      "EPOCH: 47, Loss: 9.573863053446985e-07, accuracy: 99.1500%, using time: 12m55s\n",
      "EPOCH: 48, Loss: 0.00032053267932496965, accuracy: 99.1500%, using time: 13m11s\n",
      "EPOCH: 49, Loss: 5.9604587931971764e-08, accuracy: 99.1700%, using time: 13m28s\n",
      "EPOCH: 50, Loss: 5.066382300356054e-07, accuracy: 99.1500%, using time: 13m44s\n",
      "Traceback (most recent call last):\n",
      "  File \"AdvancedCNN.py\", line 168, in <module>\n",
      "    plt.plot(epoch_np, accuracy_np)\n",
      "  File \"/usr/local/lib/python3.6/dist-packages/matplotlib/pyplot.py\", line 2763, in plot\n",
      "    is not None else {}), **kwargs)\n",
      "  File \"/usr/local/lib/python3.6/dist-packages/matplotlib/axes/_axes.py\", line 1647, in plot\n",
      "    lines = [*self._get_lines(*args, data=data, **kwargs)]\n",
      "  File \"/usr/local/lib/python3.6/dist-packages/matplotlib/axes/_base.py\", line 216, in __call__\n",
      "    yield from self._plot_args(this, kwargs)\n",
      "  File \"/usr/local/lib/python3.6/dist-packages/matplotlib/axes/_base.py\", line 342, in _plot_args\n",
      "    raise ValueError(f\"x and y must have same first dimension, but \"\n",
      "ValueError: x and y must have same first dimension, but have shapes (10,) and (50,)\n"
     ]
    }
   ],
   "source": [
    "!python3 AdvancedCNN.py"
   ]
  },
  {
   "cell_type": "code",
   "execution_count": null,
   "metadata": {
    "colab": {
     "base_uri": "https://localhost:8080/"
    },
    "executionInfo": {
     "elapsed": 244791,
     "status": "ok",
     "timestamp": 1611714838329,
     "user": {
      "displayName": "ming xiao",
      "photoUrl": "https://lh3.googleusercontent.com/a-/AOh14GjaxY6rOBabF8qqgKhTvgPR9LUhdLGKLiWCOzqj=s64",
      "userId": "05236007827050334099"
     },
     "user_tz": -480
    },
    "id": "gW5B6qa3Fe_d",
    "outputId": "60fec717-273f-4a63-dd34-09f739f93190"
   },
   "outputs": [
    {
     "name": "stdout",
     "output_type": "stream",
     "text": [
      "Running on:  cuda:0\n",
      "EPOCH:1, Loss:2.2983853816986084， accuracy: 11.35%, total time: 0m22s \n",
      "EPOCH:2, Loss:2.298508882522583， accuracy: 11.35%, total time: 0m45s \n",
      "EPOCH:3, Loss:2.324127674102783， accuracy: 9.80%, total time: 1m7s \n",
      "EPOCH:4, Loss:2.333937644958496， accuracy: 11.35%, total time: 1m30s \n",
      "EPOCH:5, Loss:2.30189847946167， accuracy: 11.35%, total time: 1m52s \n",
      "EPOCH:6, Loss:2.292961597442627， accuracy: 9.82%, total time: 2m15s \n",
      "EPOCH:7, Loss:2.312385082244873， accuracy: 11.35%, total time: 2m37s \n",
      "EPOCH:8, Loss:2.311377763748169， accuracy: 11.35%, total time: 3m0s \n",
      "EPOCH:9, Loss:2.292006731033325， accuracy: 11.35%, total time: 3m22s \n",
      "EPOCH:10, Loss:2.2851932048797607， accuracy: 11.35%, total time: 3m45s \n",
      "<Figure size 640x480 with 1 Axes>\n"
     ]
    }
   ],
   "source": [
    "!python3 AdvancedCNN.py"
   ]
  },
  {
   "cell_type": "code",
   "execution_count": null,
   "metadata": {
    "colab": {
     "base_uri": "https://localhost:8080/"
    },
    "executionInfo": {
     "elapsed": 395968,
     "status": "ok",
     "timestamp": 1611716144417,
     "user": {
      "displayName": "ming xiao",
      "photoUrl": "https://lh3.googleusercontent.com/a-/AOh14GjaxY6rOBabF8qqgKhTvgPR9LUhdLGKLiWCOzqj=s64",
      "userId": "05236007827050334099"
     },
     "user_tz": -480
    },
    "id": "Ff9iErLIrQLe",
    "outputId": "4d76591e-12bc-40c8-b21a-b9c6f9b9dab3"
   },
   "outputs": [
    {
     "name": "stdout",
     "output_type": "stream",
     "text": [
      "Running on:  cuda:0\n",
      "EPOCH:1, Loss:0.28204065561294556， accuracy: 94.40%, total time: 0m19s \n",
      "EPOCH:2, Loss:0.06645801663398743， accuracy: 97.65%, total time: 0m39s \n",
      "EPOCH:3, Loss:0.0374346524477005， accuracy: 97.91%, total time: 0m59s \n",
      "EPOCH:4, Loss:0.014231760986149311， accuracy: 98.49%, total time: 1m18s \n",
      "EPOCH:5, Loss:0.0014776337193325162， accuracy: 98.73%, total time: 1m38s \n",
      "EPOCH:6, Loss:0.0021524776238948107， accuracy: 98.60%, total time: 1m58s \n",
      "EPOCH:7, Loss:0.0036665811203420162， accuracy: 98.87%, total time: 2m17s \n",
      "EPOCH:8, Loss:0.004572059027850628， accuracy: 98.59%, total time: 2m37s \n",
      "EPOCH:9, Loss:0.00794125534594059， accuracy: 98.84%, total time: 2m56s \n",
      "EPOCH:10, Loss:0.013800133019685745， accuracy: 98.99%, total time: 3m16s \n",
      "EPOCH:11, Loss:0.002441775519400835， accuracy: 98.78%, total time: 3m35s \n",
      "EPOCH:12, Loss:0.024965738877654076， accuracy: 98.69%, total time: 3m55s \n",
      "EPOCH:13, Loss:0.005219992715865374， accuracy: 99.03%, total time: 4m14s \n",
      "EPOCH:14, Loss:0.00821914803236723， accuracy: 98.74%, total time: 4m33s \n",
      "EPOCH:15, Loss:0.000776569708250463， accuracy: 98.92%, total time: 4m53s \n",
      "EPOCH:16, Loss:0.00023799730115570128， accuracy: 99.04%, total time: 5m12s \n",
      "EPOCH:17, Loss:0.016677286475896835， accuracy: 99.18%, total time: 5m32s \n",
      "EPOCH:18, Loss:0.007162291090935469， accuracy: 99.00%, total time: 5m51s \n",
      "EPOCH:19, Loss:0.00024890166241675615， accuracy: 99.01%, total time: 6m10s \n",
      "EPOCH:20, Loss:1.3790097000310197e-05， accuracy: 98.95%, total time: 6m29s \n",
      "<Figure size 640x480 with 1 Axes>\n"
     ]
    }
   ],
   "source": [
    "!python3 AdvancedCNN.py"
   ]
  },
  {
   "cell_type": "code",
   "execution_count": null,
   "metadata": {
    "colab": {
     "base_uri": "https://localhost:8080/"
    },
    "executionInfo": {
     "elapsed": 291044,
     "status": "ok",
     "timestamp": 1611717945317,
     "user": {
      "displayName": "ming xiao",
      "photoUrl": "https://lh3.googleusercontent.com/a-/AOh14GjaxY6rOBabF8qqgKhTvgPR9LUhdLGKLiWCOzqj=s64",
      "userId": "05236007827050334099"
     },
     "user_tz": -480
    },
    "id": "Oko52-1ksRQw",
    "outputId": "e90d706c-a92e-469b-f2d7-0cfceae30168"
   },
   "outputs": [
    {
     "name": "stdout",
     "output_type": "stream",
     "text": [
      "Running on:  cuda:0\n",
      "EPOCH:1, Loss:2.280564308166504， accuracy: 11.92%, total time: 0m28s \n",
      "EPOCH:2, Loss:0.11567625403404236， accuracy: 96.35%, total time: 0m56s \n",
      "EPOCH:3, Loss:0.004581155255436897， accuracy: 97.92%, total time: 1m25s \n",
      "EPOCH:4, Loss:0.029851332306861877， accuracy: 98.43%, total time: 1m54s \n",
      "EPOCH:5, Loss:0.00749549176543951， accuracy: 98.37%, total time: 2m22s \n",
      "EPOCH:6, Loss:0.00207324861548841， accuracy: 98.64%, total time: 2m50s \n",
      "EPOCH:7, Loss:0.07589113712310791， accuracy: 98.63%, total time: 3m19s \n",
      "EPOCH:8, Loss:0.16386471688747406， accuracy: 98.76%, total time: 3m47s \n",
      "EPOCH:9, Loss:0.0008406980778090656， accuracy: 98.65%, total time: 4m16s \n",
      "EPOCH:10, Loss:0.15871459245681763， accuracy: 99.04%, total time: 4m44s \n",
      "<Figure size 640x480 with 1 Axes>\n"
     ]
    }
   ],
   "source": [
    "!python3 AdvancedCNN.py"
   ]
  },
  {
   "cell_type": "markdown",
   "metadata": {
    "id": "OAmUcj-k-Za1"
   },
   "source": [
    "未加Batch Normalization"
   ]
  },
  {
   "cell_type": "code",
   "execution_count": null,
   "metadata": {
    "colab": {
     "base_uri": "https://localhost:8080/"
    },
    "executionInfo": {
     "elapsed": 1792791,
     "status": "ok",
     "timestamp": 1611726112870,
     "user": {
      "displayName": "ming xiao",
      "photoUrl": "https://lh3.googleusercontent.com/a-/AOh14GjaxY6rOBabF8qqgKhTvgPR9LUhdLGKLiWCOzqj=s64",
      "userId": "05236007827050334099"
     },
     "user_tz": -480
    },
    "id": "dacaQd6K2bWg",
    "outputId": "19ec4415-32c9-44d2-b89f-77073e232677"
   },
   "outputs": [
    {
     "name": "stdout",
     "output_type": "stream",
     "text": [
      "Files already downloaded and verified\n",
      "Files already downloaded and verified\n",
      "Running on:  cuda:0\n",
      "MyNet(\n",
      "  (layer1): Sequential(\n",
      "    (0): Conv2d(3, 10, kernel_size=(5, 5), stride=(1, 1))\n",
      "    (1): ReLU()\n",
      "    (2): MaxPool2d(kernel_size=2, stride=2, padding=0, dilation=1, ceil_mode=False)\n",
      "  )\n",
      "  (layer2): ResidualBlock(\n",
      "    (layer2): Sequential(\n",
      "      (0): Conv2d(10, 10, kernel_size=(3, 3), stride=(1, 1), padding=(1, 1))\n",
      "      (1): ReLU()\n",
      "      (2): Conv2d(10, 10, kernel_size=(3, 3), stride=(1, 1), padding=(1, 1))\n",
      "    )\n",
      "  )\n",
      "  (layer3): InceptionA(\n",
      "    (branch_pool_1): AvgPool2d(kernel_size=3, stride=1, padding=1)\n",
      "    (branch_pool_2): Conv2d(10, 24, kernel_size=(1, 1), stride=(1, 1))\n",
      "    (branch1x1): Conv2d(10, 16, kernel_size=(1, 1), stride=(1, 1))\n",
      "    (branch5x5_1): Conv2d(10, 16, kernel_size=(1, 1), stride=(1, 1))\n",
      "    (branch5x5_2): Conv2d(16, 24, kernel_size=(5, 5), stride=(1, 1), padding=(2, 2))\n",
      "    (branch3x3_1): Conv2d(10, 16, kernel_size=(1, 1), stride=(1, 1))\n",
      "    (branch3x3_2): Conv2d(16, 24, kernel_size=(3, 3), stride=(1, 1), padding=(1, 1))\n",
      "    (branch3x3_3): Conv2d(24, 24, kernel_size=(3, 3), stride=(1, 1), padding=(1, 1))\n",
      "  )\n",
      "  (layer4): Sequential(\n",
      "    (0): Conv2d(88, 20, kernel_size=(5, 5), stride=(1, 1))\n",
      "    (1): ReLU()\n",
      "    (2): MaxPool2d(kernel_size=2, stride=2, padding=0, dilation=1, ceil_mode=False)\n",
      "  )\n",
      "  (layer5): ResidualBlock(\n",
      "    (layer2): Sequential(\n",
      "      (0): Conv2d(20, 20, kernel_size=(3, 3), stride=(1, 1), padding=(1, 1))\n",
      "      (1): ReLU()\n",
      "      (2): Conv2d(20, 20, kernel_size=(3, 3), stride=(1, 1), padding=(1, 1))\n",
      "    )\n",
      "  )\n",
      "  (layer6): InceptionA(\n",
      "    (branch_pool_1): AvgPool2d(kernel_size=3, stride=1, padding=1)\n",
      "    (branch_pool_2): Conv2d(20, 24, kernel_size=(1, 1), stride=(1, 1))\n",
      "    (branch1x1): Conv2d(20, 16, kernel_size=(1, 1), stride=(1, 1))\n",
      "    (branch5x5_1): Conv2d(20, 16, kernel_size=(1, 1), stride=(1, 1))\n",
      "    (branch5x5_2): Conv2d(16, 24, kernel_size=(5, 5), stride=(1, 1), padding=(2, 2))\n",
      "    (branch3x3_1): Conv2d(20, 16, kernel_size=(1, 1), stride=(1, 1))\n",
      "    (branch3x3_2): Conv2d(16, 24, kernel_size=(3, 3), stride=(1, 1), padding=(1, 1))\n",
      "    (branch3x3_3): Conv2d(24, 24, kernel_size=(3, 3), stride=(1, 1), padding=(1, 1))\n",
      "  )\n",
      "  (fc): Sequential(\n",
      "    (0): Linear(in_features=2200, out_features=128, bias=True)\n",
      "    (1): ReLU()\n",
      "    (2): Linear(in_features=128, out_features=64, bias=True)\n",
      "    (3): ReLU()\n",
      "    (4): Linear(in_features=64, out_features=10, bias=True)\n",
      "  )\n",
      ")\n",
      "EPOCH:1, Loss:2.297346591949463， accuracy: 10.00%, total time: 0m34s \n",
      "EPOCH:2, Loss:1.9580893516540527， accuracy: 15.54%, total time: 1m9s \n",
      "EPOCH:3, Loss:1.4463590383529663， accuracy: 26.56%, total time: 1m43s \n",
      "EPOCH:4, Loss:1.6319671869277954， accuracy: 38.24%, total time: 2m18s \n",
      "EPOCH:5, Loss:1.5858068466186523， accuracy: 41.75%, total time: 2m52s \n",
      "EPOCH:6, Loss:1.573906421661377， accuracy: 42.66%, total time: 3m27s \n",
      "EPOCH:7, Loss:1.3100037574768066， accuracy: 40.18%, total time: 4m2s \n",
      "EPOCH:8, Loss:1.388840913772583， accuracy: 49.23%, total time: 4m36s \n",
      "EPOCH:9, Loss:1.6259733438491821， accuracy: 48.33%, total time: 5m11s \n",
      "EPOCH:10, Loss:1.2713112831115723， accuracy: 52.18%, total time: 5m45s \n",
      "EPOCH:11, Loss:1.2383177280426025， accuracy: 52.16%, total time: 6m19s \n",
      "EPOCH:12, Loss:1.419132947921753， accuracy: 54.71%, total time: 6m54s \n",
      "EPOCH:13, Loss:1.7485164403915405， accuracy: 52.07%, total time: 7m29s \n",
      "EPOCH:14, Loss:1.050995945930481， accuracy: 58.62%, total time: 8m6s \n",
      "EPOCH:15, Loss:1.0653495788574219， accuracy: 59.11%, total time: 8m41s \n",
      "EPOCH:16, Loss:1.2605645656585693， accuracy: 59.06%, total time: 9m16s \n",
      "EPOCH:17, Loss:0.7208423018455505， accuracy: 57.89%, total time: 9m52s \n",
      "EPOCH:18, Loss:0.8317984342575073， accuracy: 62.79%, total time: 10m27s \n",
      "EPOCH:19, Loss:0.8560396432876587， accuracy: 62.14%, total time: 11m1s \n",
      "EPOCH:20, Loss:1.0444412231445312， accuracy: 61.90%, total time: 11m36s \n",
      "EPOCH:21, Loss:1.6758649349212646， accuracy: 55.42%, total time: 12m11s \n",
      "EPOCH:22, Loss:0.6253936886787415， accuracy: 62.22%, total time: 12m46s \n",
      "EPOCH:23, Loss:1.0509470701217651， accuracy: 65.03%, total time: 13m21s \n",
      "EPOCH:24, Loss:0.6406849026679993， accuracy: 60.80%, total time: 13m57s \n",
      "EPOCH:25, Loss:0.6541649699211121， accuracy: 63.55%, total time: 14m32s \n",
      "EPOCH:26, Loss:0.3996267318725586， accuracy: 66.07%, total time: 15m8s \n",
      "EPOCH:27, Loss:0.7621925473213196， accuracy: 64.54%, total time: 15m44s \n",
      "EPOCH:28, Loss:0.5085294246673584， accuracy: 67.44%, total time: 16m20s \n",
      "EPOCH:29, Loss:0.8779712915420532， accuracy: 68.74%, total time: 16m56s \n",
      "EPOCH:30, Loss:0.41898176074028015， accuracy: 66.58%, total time: 17m32s \n",
      "EPOCH:31, Loss:0.9016879796981812， accuracy: 65.19%, total time: 18m8s \n",
      "EPOCH:32, Loss:0.5561566948890686， accuracy: 67.99%, total time: 18m44s \n",
      "EPOCH:33, Loss:1.1253798007965088， accuracy: 64.97%, total time: 19m21s \n",
      "EPOCH:34, Loss:0.9378729462623596， accuracy: 66.90%, total time: 19m57s \n",
      "EPOCH:35, Loss:1.483532190322876， accuracy: 66.69%, total time: 20m33s \n",
      "EPOCH:36, Loss:0.3684508502483368， accuracy: 68.66%, total time: 21m10s \n",
      "EPOCH:37, Loss:1.1615724563598633， accuracy: 66.99%, total time: 21m46s \n",
      "EPOCH:38, Loss:0.7694130539894104， accuracy: 64.13%, total time: 22m23s \n",
      "EPOCH:39, Loss:0.6586197018623352， accuracy: 67.97%, total time: 22m59s \n",
      "EPOCH:40, Loss:0.5938053727149963， accuracy: 66.74%, total time: 23m36s \n",
      "EPOCH:41, Loss:0.32544440031051636， accuracy: 63.58%, total time: 24m13s \n",
      "EPOCH:42, Loss:0.37282755970954895， accuracy: 67.96%, total time: 24m49s \n",
      "EPOCH:43, Loss:0.4221903085708618， accuracy: 67.72%, total time: 25m26s \n",
      "EPOCH:44, Loss:0.5709998607635498， accuracy: 66.60%, total time: 26m3s \n",
      "EPOCH:45, Loss:0.6986727118492126， accuracy: 66.55%, total time: 26m40s \n",
      "EPOCH:46, Loss:0.5667386054992676， accuracy: 67.94%, total time: 27m16s \n",
      "EPOCH:47, Loss:0.9222661256790161， accuracy: 67.80%, total time: 27m53s \n",
      "EPOCH:48, Loss:0.8618755340576172， accuracy: 66.51%, total time: 28m30s \n",
      "EPOCH:49, Loss:0.43384256958961487， accuracy: 65.99%, total time: 29m7s \n",
      "EPOCH:50, Loss:0.6418503522872925， accuracy: 67.91%, total time: 29m43s \n",
      "<Figure size 640x480 with 1 Axes>\n"
     ]
    }
   ],
   "source": [
    "# !python3 AdvancedCNN.py"
   ]
  },
  {
   "cell_type": "markdown",
   "metadata": {
    "id": "FBwnVCB8-go9"
   },
   "source": [
    "加上nn.BatchNormal2d()层， 收敛速度变快\n",
    "\n",
    "BN-Conv-ReLU\n"
   ]
  },
  {
   "cell_type": "code",
   "execution_count": null,
   "metadata": {
    "colab": {
     "base_uri": "https://localhost:8080/"
    },
    "executionInfo": {
     "elapsed": 949499,
     "status": "ok",
     "timestamp": 1611737013334,
     "user": {
      "displayName": "ming xiao",
      "photoUrl": "https://lh3.googleusercontent.com/a-/AOh14GjaxY6rOBabF8qqgKhTvgPR9LUhdLGKLiWCOzqj=s64",
      "userId": "05236007827050334099"
     },
     "user_tz": -480
    },
    "id": "xyQ1nsVk8nE5",
    "outputId": "f535dd39-7e60-46fd-ba7f-f82c4c655aee"
   },
   "outputs": [
    {
     "name": "stdout",
     "output_type": "stream",
     "text": [
      "Files already downloaded and verified\n",
      "Files already downloaded and verified\n",
      "Running on:  cuda:0\n",
      "MyNet(\n",
      "  (layer1): Sequential(\n",
      "    (0): BatchNorm2d(3, eps=1e-05, momentum=0.1, affine=True, track_running_stats=True)\n",
      "    (1): Conv2d(3, 10, kernel_size=(5, 5), stride=(1, 1))\n",
      "    (2): ReLU()\n",
      "    (3): MaxPool2d(kernel_size=2, stride=2, padding=0, dilation=1, ceil_mode=False)\n",
      "  )\n",
      "  (layer2): ResidualBlock(\n",
      "    (layer2): Sequential(\n",
      "      (0): Conv2d(10, 10, kernel_size=(3, 3), stride=(1, 1), padding=(1, 1))\n",
      "      (1): ReLU()\n",
      "      (2): Conv2d(10, 10, kernel_size=(3, 3), stride=(1, 1), padding=(1, 1))\n",
      "    )\n",
      "  )\n",
      "  (layer3): InceptionA(\n",
      "    (branch_pool_1): AvgPool2d(kernel_size=3, stride=1, padding=1)\n",
      "    (branch_pool_2): Conv2d(10, 24, kernel_size=(1, 1), stride=(1, 1))\n",
      "    (branch1x1): Conv2d(10, 16, kernel_size=(1, 1), stride=(1, 1))\n",
      "    (branch5x5_1): Conv2d(10, 16, kernel_size=(1, 1), stride=(1, 1))\n",
      "    (branch5x5_2): Conv2d(16, 24, kernel_size=(5, 5), stride=(1, 1), padding=(2, 2))\n",
      "    (branch3x3_1): Conv2d(10, 16, kernel_size=(1, 1), stride=(1, 1))\n",
      "    (branch3x3_2): Conv2d(16, 24, kernel_size=(3, 3), stride=(1, 1), padding=(1, 1))\n",
      "    (branch3x3_3): Conv2d(24, 24, kernel_size=(3, 3), stride=(1, 1), padding=(1, 1))\n",
      "  )\n",
      "  (layer4): Sequential(\n",
      "    (0): BatchNorm2d(88, eps=1e-05, momentum=0.1, affine=True, track_running_stats=True)\n",
      "    (1): Conv2d(88, 20, kernel_size=(5, 5), stride=(1, 1))\n",
      "    (2): ReLU()\n",
      "    (3): MaxPool2d(kernel_size=2, stride=2, padding=0, dilation=1, ceil_mode=False)\n",
      "  )\n",
      "  (layer5): ResidualBlock(\n",
      "    (layer2): Sequential(\n",
      "      (0): Conv2d(20, 20, kernel_size=(3, 3), stride=(1, 1), padding=(1, 1))\n",
      "      (1): ReLU()\n",
      "      (2): Conv2d(20, 20, kernel_size=(3, 3), stride=(1, 1), padding=(1, 1))\n",
      "    )\n",
      "  )\n",
      "  (layer6): InceptionA(\n",
      "    (branch_pool_1): AvgPool2d(kernel_size=3, stride=1, padding=1)\n",
      "    (branch_pool_2): Conv2d(20, 24, kernel_size=(1, 1), stride=(1, 1))\n",
      "    (branch1x1): Conv2d(20, 16, kernel_size=(1, 1), stride=(1, 1))\n",
      "    (branch5x5_1): Conv2d(20, 16, kernel_size=(1, 1), stride=(1, 1))\n",
      "    (branch5x5_2): Conv2d(16, 24, kernel_size=(5, 5), stride=(1, 1), padding=(2, 2))\n",
      "    (branch3x3_1): Conv2d(20, 16, kernel_size=(1, 1), stride=(1, 1))\n",
      "    (branch3x3_2): Conv2d(16, 24, kernel_size=(3, 3), stride=(1, 1), padding=(1, 1))\n",
      "    (branch3x3_3): Conv2d(24, 24, kernel_size=(3, 3), stride=(1, 1), padding=(1, 1))\n",
      "  )\n",
      "  (fc): Sequential(\n",
      "    (0): Linear(in_features=2200, out_features=128, bias=True)\n",
      "    (1): ReLU()\n",
      "    (2): Linear(in_features=128, out_features=64, bias=True)\n",
      "    (3): ReLU()\n",
      "    (4): Linear(in_features=64, out_features=10, bias=True)\n",
      "  )\n",
      ")\n",
      "EPOCH:1, Loss:1.5308303833007812， accuracy: 32.70%, total time: 0m37s \n",
      "EPOCH:2, Loss:1.588698387145996， accuracy: 41.70%, total time: 1m16s \n",
      "EPOCH:3, Loss:1.483925700187683， accuracy: 49.69%, total time: 1m54s \n",
      "EPOCH:4, Loss:0.9534811973571777， accuracy: 55.80%, total time: 2m32s \n",
      "EPOCH:5, Loss:0.7987849712371826， accuracy: 57.85%, total time: 3m11s \n",
      "EPOCH:6, Loss:0.8396040797233582， accuracy: 61.75%, total time: 3m50s \n",
      "EPOCH:7, Loss:1.0236024856567383， accuracy: 62.63%, total time: 4m27s \n",
      "EPOCH:8, Loss:1.3216021060943604， accuracy: 64.25%, total time: 5m6s \n",
      "EPOCH:9, Loss:0.6640608906745911， accuracy: 68.21%, total time: 5m43s \n",
      "EPOCH:10, Loss:1.2102614641189575， accuracy: 67.44%, total time: 6m21s \n",
      "EPOCH:11, Loss:0.7391544580459595， accuracy: 68.46%, total time: 6m59s \n",
      "EPOCH:12, Loss:0.547630786895752， accuracy: 70.04%, total time: 7m37s \n",
      "EPOCH:13, Loss:0.7941447496414185， accuracy: 71.36%, total time: 8m15s \n",
      "EPOCH:14, Loss:0.7887091040611267， accuracy: 70.51%, total time: 8m53s \n",
      "EPOCH:15, Loss:0.631313145160675， accuracy: 70.57%, total time: 9m31s \n",
      "EPOCH:16, Loss:1.2280285358428955， accuracy: 72.24%, total time: 10m9s \n",
      "EPOCH:17, Loss:0.36373281478881836， accuracy: 72.26%, total time: 10m47s \n",
      "EPOCH:18, Loss:0.825040876865387， accuracy: 72.08%, total time: 11m25s \n",
      "EPOCH:19, Loss:0.464856892824173， accuracy: 71.93%, total time: 12m3s \n",
      "EPOCH:20, Loss:1.0624862909317017， accuracy: 68.77%, total time: 12m41s \n",
      "EPOCH:21, Loss:0.6961396336555481， accuracy: 73.10%, total time: 13m19s \n",
      "EPOCH:22, Loss:0.5683547258377075， accuracy: 72.28%, total time: 13m57s \n",
      "EPOCH:23, Loss:0.4952283203601837， accuracy: 72.92%, total time: 14m35s \n",
      "EPOCH:24, Loss:0.5172276496887207， accuracy: 64.51%, total time: 15m13s \n",
      "\n"
     ]
    }
   ],
   "source": [
    "!python3 AdvancedCNN.py"
   ]
  },
  {
   "cell_type": "markdown",
   "metadata": {
    "id": "NDv_aQXXA5wJ"
   },
   "source": [
    "BN-ReLU-Conv"
   ]
  },
  {
   "cell_type": "code",
   "execution_count": 5,
   "metadata": {
    "colab": {
     "base_uri": "https://localhost:8080/"
    },
    "executionInfo": {
     "elapsed": 1391815,
     "status": "ok",
     "timestamp": 1611755728815,
     "user": {
      "displayName": "ming xiao",
      "photoUrl": "https://lh3.googleusercontent.com/a-/AOh14GjaxY6rOBabF8qqgKhTvgPR9LUhdLGKLiWCOzqj=s64",
      "userId": "05236007827050334099"
     },
     "user_tz": -480
    },
    "id": "iPmH-BtJA2OM",
    "outputId": "1b034b42-f69b-4dff-9f91-548ee49b5613"
   },
   "outputs": [
    {
     "name": "stdout",
     "output_type": "stream",
     "text": [
      "Files already downloaded and verified\n",
      "Files already downloaded and verified\n",
      "Running on:  cuda:0\n",
      "MyNet(\n",
      "  (layer1): Sequential(\n",
      "    (0): BatchNorm2d(3, eps=1e-05, momentum=0.1, affine=True, track_running_stats=True)\n",
      "    (1): ReLU()\n",
      "    (2): Conv2d(3, 10, kernel_size=(5, 5), stride=(1, 1))\n",
      "    (3): MaxPool2d(kernel_size=2, stride=2, padding=0, dilation=1, ceil_mode=False)\n",
      "  )\n",
      "  (layer2): ResidualBlock(\n",
      "    (layer2): Sequential(\n",
      "      (0): BatchNorm2d(10, eps=1e-05, momentum=0.1, affine=True, track_running_stats=True)\n",
      "      (1): ReLU()\n",
      "      (2): Conv2d(10, 10, kernel_size=(3, 3), stride=(1, 1), padding=(1, 1))\n",
      "      (3): BatchNorm2d(10, eps=1e-05, momentum=0.1, affine=True, track_running_stats=True)\n",
      "      (4): ReLU()\n",
      "      (5): Conv2d(10, 10, kernel_size=(3, 3), stride=(1, 1), padding=(1, 1))\n",
      "    )\n",
      "  )\n",
      "  (layer3): InceptionA(\n",
      "    (branch_pool_1): AvgPool2d(kernel_size=3, stride=1, padding=1)\n",
      "    (branch_pool_2): Conv2d(10, 24, kernel_size=(1, 1), stride=(1, 1))\n",
      "    (branch1x1): Conv2d(10, 16, kernel_size=(1, 1), stride=(1, 1))\n",
      "    (branch5x5_1): Conv2d(10, 16, kernel_size=(1, 1), stride=(1, 1))\n",
      "    (branch5x5_2): Conv2d(16, 24, kernel_size=(5, 5), stride=(1, 1), padding=(2, 2))\n",
      "    (branch3x3_1): Conv2d(10, 16, kernel_size=(1, 1), stride=(1, 1))\n",
      "    (branch3x3_2): Conv2d(16, 24, kernel_size=(3, 3), stride=(1, 1), padding=(1, 1))\n",
      "    (branch3x3_3): Conv2d(24, 24, kernel_size=(3, 3), stride=(1, 1), padding=(1, 1))\n",
      "  )\n",
      "  (layer4): Sequential(\n",
      "    (0): BatchNorm2d(88, eps=1e-05, momentum=0.1, affine=True, track_running_stats=True)\n",
      "    (1): ReLU()\n",
      "    (2): Conv2d(88, 20, kernel_size=(5, 5), stride=(1, 1))\n",
      "    (3): MaxPool2d(kernel_size=2, stride=2, padding=0, dilation=1, ceil_mode=False)\n",
      "  )\n",
      "  (layer5): ResidualBlock(\n",
      "    (layer2): Sequential(\n",
      "      (0): BatchNorm2d(20, eps=1e-05, momentum=0.1, affine=True, track_running_stats=True)\n",
      "      (1): ReLU()\n",
      "      (2): Conv2d(20, 20, kernel_size=(3, 3), stride=(1, 1), padding=(1, 1))\n",
      "      (3): BatchNorm2d(20, eps=1e-05, momentum=0.1, affine=True, track_running_stats=True)\n",
      "      (4): ReLU()\n",
      "      (5): Conv2d(20, 20, kernel_size=(3, 3), stride=(1, 1), padding=(1, 1))\n",
      "    )\n",
      "  )\n",
      "  (layer6): InceptionA(\n",
      "    (branch_pool_1): AvgPool2d(kernel_size=3, stride=1, padding=1)\n",
      "    (branch_pool_2): Conv2d(20, 24, kernel_size=(1, 1), stride=(1, 1))\n",
      "    (branch1x1): Conv2d(20, 16, kernel_size=(1, 1), stride=(1, 1))\n",
      "    (branch5x5_1): Conv2d(20, 16, kernel_size=(1, 1), stride=(1, 1))\n",
      "    (branch5x5_2): Conv2d(16, 24, kernel_size=(5, 5), stride=(1, 1), padding=(2, 2))\n",
      "    (branch3x3_1): Conv2d(20, 16, kernel_size=(1, 1), stride=(1, 1))\n",
      "    (branch3x3_2): Conv2d(16, 24, kernel_size=(3, 3), stride=(1, 1), padding=(1, 1))\n",
      "    (branch3x3_3): Conv2d(24, 24, kernel_size=(3, 3), stride=(1, 1), padding=(1, 1))\n",
      "  )\n",
      "  (fc): Sequential(\n",
      "    (0): Linear(in_features=2200, out_features=128, bias=True)\n",
      "    (1): ReLU()\n",
      "    (2): Linear(in_features=128, out_features=64, bias=True)\n",
      "    (3): ReLU()\n",
      "    (4): Linear(in_features=64, out_features=10, bias=True)\n",
      "  )\n",
      ")\n",
      "EPOCH:1, Loss:2.0074708461761475， accuracy: 38.39%, total time: 1m15s \n",
      "EPOCH:2, Loss:1.8862980604171753， accuracy: 42.29%, total time: 2m31s \n",
      "EPOCH:3, Loss:1.6509335041046143， accuracy: 49.41%, total time: 3m46s \n",
      "EPOCH:4, Loss:1.4767237901687622， accuracy: 51.90%, total time: 5m1s \n",
      "EPOCH:5, Loss:1.5051896572113037， accuracy: 52.50%, total time: 6m16s \n",
      "EPOCH:6, Loss:1.2225631475448608， accuracy: 55.40%, total time: 7m31s \n",
      "EPOCH:7, Loss:1.2165788412094116， accuracy: 57.09%, total time: 8m46s \n",
      "EPOCH:8, Loss:0.7651503086090088， accuracy: 57.28%, total time: 10m1s \n",
      "EPOCH:9, Loss:0.5725125074386597， accuracy: 60.79%, total time: 11m15s \n",
      "EPOCH:10, Loss:0.9609383344650269， accuracy: 61.54%, total time: 12m30s \n",
      "EPOCH:11, Loss:1.0202107429504395， accuracy: 62.03%, total time: 13m45s \n",
      "EPOCH:12, Loss:1.0993703603744507， accuracy: 61.36%, total time: 15m0s \n",
      "EPOCH:13, Loss:0.7412980794906616， accuracy: 63.33%, total time: 16m16s \n",
      "EPOCH:14, Loss:0.857154905796051， accuracy: 64.53%, total time: 17m31s \n",
      "EPOCH:15, Loss:0.765139102935791， accuracy: 65.99%, total time: 18m47s \n",
      "EPOCH:16, Loss:0.5750555992126465， accuracy: 65.28%, total time: 20m3s \n",
      "EPOCH:17, Loss:0.6947524547576904， accuracy: 66.70%, total time: 21m18s \n",
      "EPOCH:18, Loss:0.8805111646652222， accuracy: 67.21%, total time: 22m34s \n",
      "Traceback (most recent call last):\n",
      "  File \"AdvancedCNN.py\", line 187, in <module>\n",
      "  File \"AdvancedCNN.py\", line 118, in train\n",
      "    y_pred = model(inputs)\n",
      "  File \"/usr/local/lib/python3.6/dist-packages/torch/nn/modules/module.py\", line 727, in _call_impl\n",
      "    result = self.forward(*input, **kwargs)\n",
      "  File \"AdvancedCNN.py\", line 104, in forward\n",
      "    x = self.layer5(x)\n",
      "  File \"/usr/local/lib/python3.6/dist-packages/torch/nn/modules/module.py\", line 727, in _call_impl\n",
      "    result = self.forward(*input, **kwargs)\n",
      "  File \"AdvancedCNN.py\", line 64, in forward\n",
      "    y = self.layer2(x)\n",
      "  File \"/usr/local/lib/python3.6/dist-packages/torch/nn/modules/module.py\", line 727, in _call_impl\n",
      "    result = self.forward(*input, **kwargs)\n",
      "  File \"/usr/local/lib/python3.6/dist-packages/torch/nn/modules/container.py\", line 117, in forward\n",
      "    input = module(input)\n",
      "  File \"/usr/local/lib/python3.6/dist-packages/torch/nn/modules/module.py\", line 727, in _call_impl\n",
      "    result = self.forward(*input, **kwargs)\n",
      "  File \"/usr/local/lib/python3.6/dist-packages/torch/nn/modules/batchnorm.py\", line 111, in forward\n",
      "    self.num_batches_tracked = self.num_batches_tracked + 1\n",
      "  File \"/usr/local/lib/python3.6/dist-packages/torch/nn/modules/module.py\", line 820, in __setattr__\n",
      "    if value is not None and not isinstance(value, torch.Tensor):\n",
      "KeyboardInterrupt\n"
     ]
    }
   ],
   "source": [
    "!python3 AdvancedCNN.py"
   ]
  }
 ],
 "metadata": {
  "accelerator": "GPU",
  "colab": {
   "authorship_tag": "ABX9TyMOMlQFdQzQ54q/o3yqYvDz",
   "name": "Untitled0.ipynb",
   "provenance": []
  },
  "kernelspec": {
   "display_name": "Python 3",
   "language": "python",
   "name": "python3"
  },
  "language_info": {
   "codemirror_mode": {
    "name": "ipython",
    "version": 3
   },
   "file_extension": ".py",
   "mimetype": "text/x-python",
   "name": "python",
   "nbconvert_exporter": "python",
   "pygments_lexer": "ipython3",
   "version": "3.8.5"
  },
  "toc": {
   "base_numbering": 1,
   "nav_menu": {},
   "number_sections": true,
   "sideBar": true,
   "skip_h1_title": false,
   "title_cell": "Table of Contents",
   "title_sidebar": "Contents",
   "toc_cell": false,
   "toc_position": {},
   "toc_section_display": true,
   "toc_window_display": false
  },
  "varInspector": {
   "cols": {
    "lenName": 16,
    "lenType": 16,
    "lenVar": 40
   },
   "kernels_config": {
    "python": {
     "delete_cmd_postfix": "",
     "delete_cmd_prefix": "del ",
     "library": "var_list.py",
     "varRefreshCmd": "print(var_dic_list())"
    },
    "r": {
     "delete_cmd_postfix": ") ",
     "delete_cmd_prefix": "rm(",
     "library": "var_list.r",
     "varRefreshCmd": "cat(var_dic_list()) "
    }
   },
   "types_to_exclude": [
    "module",
    "function",
    "builtin_function_or_method",
    "instance",
    "_Feature"
   ],
   "window_display": false
  }
 },
 "nbformat": 4,
 "nbformat_minor": 1
}
